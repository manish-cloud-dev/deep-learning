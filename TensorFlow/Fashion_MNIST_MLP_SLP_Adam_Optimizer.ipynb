{
  "nbformat": 4,
  "nbformat_minor": 0,
  "metadata": {
    "kernelspec": {
      "display_name": "Python 3",
      "language": "python",
      "name": "python3"
    },
    "language_info": {
      "codemirror_mode": {
        "name": "ipython",
        "version": 3
      },
      "file_extension": ".py",
      "mimetype": "text/x-python",
      "name": "python",
      "nbconvert_exporter": "python",
      "pygments_lexer": "ipython3",
      "version": "3.7.3"
    },
    "colab": {
      "name": "Assign01.ipynb",
      "provenance": [],
      "collapsed_sections": []
    },
    "accelerator": "GPU"
  },
  "cells": [
    {
      "cell_type": "code",
      "metadata": {
        "id": "RZHMjCW7DkRG",
        "colab_type": "code",
        "colab": {
          "base_uri": "https://localhost:8080/",
          "height": 54
        },
        "outputId": "f4eb9a53-c402-46f2-bde3-d5e8975be851"
      },
      "source": [
        "%tensorflow_version 1.x\n",
        "# TensorFlow and tf.keras\n",
        "import tensorflow as tf\n",
        "from tensorflow import keras\n",
        "\n",
        "# Helper libraries\n",
        "import numpy as np\n",
        "import matplotlib.pyplot as plt\n",
        "\n",
        "print(tf.__version__)"
      ],
      "execution_count": 1,
      "outputs": [
        {
          "output_type": "stream",
          "text": [
            "TensorFlow 1.x selected.\n",
            "1.15.2\n"
          ],
          "name": "stdout"
        }
      ]
    },
    {
      "cell_type": "markdown",
      "metadata": {
        "id": "Mg7vRmEQDkRT",
        "colab_type": "text"
      },
      "source": [
        "## Q.1 Load Fashion MNIST & Reshape and Normalize the data"
      ]
    },
    {
      "cell_type": "code",
      "metadata": {
        "id": "1i1oYQDUDkRV",
        "colab_type": "code",
        "colab": {}
      },
      "source": [
        "fashion_mnist = keras.datasets.fashion_mnist"
      ],
      "execution_count": 0,
      "outputs": []
    },
    {
      "cell_type": "code",
      "metadata": {
        "id": "3tzoQfVkDkRf",
        "colab_type": "code",
        "colab": {
          "base_uri": "https://localhost:8080/",
          "height": 35
        },
        "outputId": "2a479c16-b4f8-4783-e144-a2be6a53f768"
      },
      "source": [
        "(X_train, y_train),(X_test, y_test) = fashion_mnist.load_data()\n",
        "print(\"The shape of data for train\", X_train.shape)"
      ],
      "execution_count": 3,
      "outputs": [
        {
          "output_type": "stream",
          "text": [
            "The shape of data for train (60000, 28, 28)\n"
          ],
          "name": "stdout"
        }
      ]
    },
    {
      "cell_type": "code",
      "metadata": {
        "id": "Hc5gDfagDkRn",
        "colab_type": "code",
        "colab": {}
      },
      "source": [
        "class_names = ['T-shirt/top', 'Trouser', 'Pullover', 'Dress', 'Coat',\n",
        "               'Sandal', 'Shirt', 'Sneaker', 'Bag', 'Ankle boot']"
      ],
      "execution_count": 0,
      "outputs": []
    },
    {
      "cell_type": "markdown",
      "metadata": {
        "id": "lql8_gX4DkRw",
        "colab_type": "text"
      },
      "source": [
        "##  Reshape and Normalize the data"
      ]
    },
    {
      "cell_type": "code",
      "metadata": {
        "id": "NMlMt_ccDkRx",
        "colab_type": "code",
        "colab": {}
      },
      "source": [
        "img_rows,img_cols = 28,28\n",
        "X_train = X_train.reshape(X_train.shape[0],img_rows * img_cols)\n",
        "X_test = X_test.reshape(X_test.shape[0],img_rows* img_cols)\n",
        "input_shape = (img_rows, img_cols, 1)\n",
        "\n",
        "# change the type of data to float32\n",
        "X_train = X_train.astype('float32')\n",
        "X_test  = X_test.astype('float32')\n",
        "#normalize pixel data in range (0,1) from (0,255)\n",
        "X_train = X_train / 255.0\n",
        "X_test = X_test / 255.0\n",
        "\n",
        "from tensorflow.keras.utils import to_categorical\n",
        "num_classes = 10\n",
        "#normalize target data to categorical for input to NN.\n",
        "y_train = to_categorical(y_train, num_classes)\n",
        "y_test = to_categorical(y_test, num_classes)\n"
      ],
      "execution_count": 0,
      "outputs": []
    },
    {
      "cell_type": "code",
      "metadata": {
        "id": "23HUOHz0Rt08",
        "colab_type": "code",
        "colab": {}
      },
      "source": [
        "class perceptron_model:\n",
        "  def __init__(self,n_input, n_classes,learning_rate, training_epochs,my_optimizer):\n",
        "    self.n_input = n_input\n",
        "    self.n_classes = n_classes\n",
        "    self.learning_rate = learning_rate\n",
        "    self.training_epochs = training_epochs\n",
        "    self.pred = None\n",
        "\n",
        "    # tf Graph input\n",
        "    self.x = tf.placeholder(\"float\", [None, n_input],name=\"x\")\n",
        "    self.y = tf.placeholder(\"float\", [None, n_classes],name=\"y\")\n",
        "    self.my_optimizer = my_optimizer\n",
        "  \n",
        "  def get_predictor(self):# to define single/multi NN\n",
        "    return None\n",
        "\n",
        "  def train_nn_model(self):\n",
        "    self.pred = self.get_predictor()\n",
        "    if self.pred == None:\n",
        "      print(\"Predictor Not defined.\")\n",
        "      return\n",
        "\n",
        "    # Define loss and optimizer\n",
        "    self.cost_fn = tf.reduce_mean(tf.nn.softmax_cross_entropy_with_logits_v2(logits=self.pred, labels=self.y))\n",
        "    self.optimizer_fn = self.my_optimizer(learning_rate=self.learning_rate).minimize(self.cost_fn)\n",
        "    \n",
        "    # Initializing the variables\n",
        "    init = tf.global_variables_initializer()\n",
        "    #create an empty list to store the cost history and accuracy history\n",
        "    cost_history = []\n",
        "    accuracy_history = []\n",
        "\n",
        "\n",
        "    display_step = 200\n",
        "    # Launch the graph\n",
        "    with tf.Session() as sess:\n",
        "        sess.run(init)\n",
        "\n",
        "        # Training cycle\n",
        "        for epoch in range(self.training_epochs):\n",
        "            # Run optimization & cost funtion\n",
        "            _, cost = sess.run([self.optimizer_fn, self.cost_fn], feed_dict={self.x: X_train,self.y: y_train})\n",
        "            \n",
        "            if epoch % display_step == 0:\n",
        "                correct_prediction = tf.equal(tf.argmax(self.pred, 1), tf.argmax(self.y, 1))\n",
        "                # Calculate accuracy\n",
        "                accuracy = tf.reduce_mean(tf.cast(correct_prediction, \"float\"))\n",
        "                acu_temp = accuracy.eval({self.x: X_test, self.y: y_test})\n",
        "                #append the accuracy to the list\n",
        "                accuracy_history.append(acu_temp)\n",
        "                #append the cost history\n",
        "                cost_history.append(cost)\n",
        "                print(\"Epoch:\", '%04d' % (epoch + 1), \"- cost=\", \"{:.9f}\".format(cost), \"- Accuracy=\",acu_temp)\n",
        "\n",
        "\n",
        "        print(\"Optimization Finished!\")\n",
        "        #plot the cost history\n",
        "        plt.plot(cost_history)\n",
        "        plt.show()\n",
        "        #plot the accuracy history\n",
        "        plt.plot(accuracy_history)\n",
        "        plt.show()\n",
        "        # Test model\n",
        "        correct_prediction = tf.equal(tf.argmax(self.pred, 1), tf.argmax(self.y, 1))\n",
        "        # Calculate accuracy\n",
        "        accuracy = tf.reduce_mean(tf.cast(correct_prediction, \"float\"))\n",
        "        print(\"Accuracy:\", accuracy.eval({self.x: X_test, self.y: y_test}))\n",
        "      "
      ],
      "execution_count": 0,
      "outputs": []
    },
    {
      "cell_type": "markdown",
      "metadata": {
        "id": "Y4R65h2wDkSR",
        "colab_type": "text"
      },
      "source": [
        "## Q.2 Define a multi layer perceptron using tensorflow for fashion "
      ]
    },
    {
      "cell_type": "code",
      "metadata": {
        "id": "9VXFGOwTcN5d",
        "colab_type": "code",
        "colab": {}
      },
      "source": [
        "class multi_layer_perceptron(perceptron_model):\n",
        "  def __init__(self,n_input, n_classes, learning_rate, training_epochs,my_optimizer):\n",
        "    perceptron_model.__init__(self,n_input, n_classes, learning_rate, training_epochs,my_optimizer)\n",
        "    # Network Parameters\n",
        "    self.n_hidden_1 = 256 # 1st layer number of features\n",
        "    self.n_hidden_2 = 256 # 2nd layer number of features\n",
        "    self.n_hidden_3 = 256 # 3rd layer number of features\n",
        "    self.n_hidden_4 = 256 # 4th layer number of features\n",
        "\n",
        "    # Store layers weight & bias\n",
        "    self.weights = {\n",
        "      'h1': tf.Variable(tf.random_normal([self.n_input, self.n_hidden_1])),\n",
        "      'h2': tf.Variable(tf.random_normal([self.n_hidden_1, self.n_hidden_2])),\n",
        "      'h3': tf.Variable(tf.random_normal([self.n_hidden_2, self.n_hidden_3])),\n",
        "      'h4': tf.Variable(tf.random_normal([self.n_hidden_3, self.n_hidden_4])),\n",
        "      'out': tf.Variable(tf.random_normal([self.n_hidden_4, self.n_classes]))\n",
        "    }\n",
        "    self.biases = {\n",
        "      'b1': tf.Variable(tf.random_normal([self.n_hidden_1])),\n",
        "      'b2': tf.Variable(tf.random_normal([self.n_hidden_2])),\n",
        "      'b3': tf.Variable(tf.random_normal([self.n_hidden_3])),\n",
        "      'b4': tf.Variable(tf.random_normal([self.n_hidden_4])),\n",
        "      'out': tf.Variable(tf.random_normal([self.n_classes]))\n",
        "    }\n",
        "\n",
        "\n",
        " #Create multi-layer perceptron model\n",
        "  def get_predictor(self):\n",
        "    # Hidden layer with RELU activation\n",
        "    layer_1 = tf.add(tf.matmul(self.x, self.weights['h1']), self.biases['b1'])\n",
        "    layer_1 = tf.nn.relu(layer_1)\n",
        "    # Hidden layer with RELU activation\n",
        "    layer_2 = tf.add(tf.matmul(layer_1, self.weights['h2']), self.biases['b2'])\n",
        "    layer_2 = tf.nn.relu(layer_2)\n",
        "    # Hidden layer with RELU activation\n",
        "    layer_3 = tf.add(tf.matmul(layer_2, self.weights['h3']), self.biases['b3'])\n",
        "    layer_3 = tf.nn.relu(layer_3)\n",
        "    # Hidden layer with RELU activation\n",
        "    layer_4 = tf.add(tf.matmul(layer_3, self.weights['h4']), self.biases['b4'])\n",
        "    layer_4 = tf.nn.relu(layer_4)\n",
        "    # Output layer with linear activation\n",
        "    out_layer = tf.matmul(layer_1, self.weights['out']) + self.biases['out']\n",
        "    return out_layer\n"
      ],
      "execution_count": 0,
      "outputs": []
    },
    {
      "cell_type": "markdown",
      "metadata": {
        "colab_type": "text",
        "id": "JljqSHhdfIfo"
      },
      "source": [
        "## Q.3 Define a Single layer perceptron using tensorflow for fashion "
      ]
    },
    {
      "cell_type": "code",
      "metadata": {
        "id": "D8x93UsyUHhP",
        "colab_type": "code",
        "colab": {}
      },
      "source": [
        "class single_layer_perceptron(perceptron_model):\n",
        "  def __init__(self,n_input, n_classes, learning_rate, training_epochs,my_optimizer):\n",
        "    perceptron_model.__init__(self,n_input, n_classes, learning_rate, training_epochs,my_optimizer)\n",
        "    # Network Parameters\n",
        "    self.n_hidden_1 = 256 # 1st layer number of features\n",
        "    \n",
        "    # Store layers weight & bias\n",
        "    self.weights = {\n",
        "      'h1': tf.Variable(tf.random_normal([self.n_input, self.n_hidden_1])),\n",
        "      'out': tf.Variable(tf.random_normal([self.n_hidden_1, self.n_classes]))\n",
        "    }\n",
        "    self.biases = {\n",
        "      'b1': tf.Variable(tf.random_normal([self.n_hidden_1])),\n",
        "      'out': tf.Variable(tf.random_normal([self.n_classes]))\n",
        "    }\n",
        "\n",
        "\n",
        " #Create single-layer perceptron model\n",
        "  def get_predictor(self):\n",
        "    # Hidden layer with RELU activation\n",
        "    layer_1 = tf.add(tf.matmul(self.x, self.weights['h1']), self.biases['b1'])\n",
        "    layer_1 = tf.nn.relu(layer_1)\n",
        "    \n",
        "    # Output layer with linear activation\n",
        "    out_layer = tf.matmul(layer_1, self.weights['out']) + self.biases['out']\n",
        "    return out_layer\n"
      ],
      "execution_count": 0,
      "outputs": []
    },
    {
      "cell_type": "markdown",
      "metadata": {
        "id": "xfei_Mbvf0HA",
        "colab_type": "text"
      },
      "source": [
        "## Q4 Initiate the training with different optimizers."
      ]
    },
    {
      "cell_type": "code",
      "metadata": {
        "id": "KbnSi-sADkSZ",
        "colab_type": "code",
        "colab": {}
      },
      "source": [
        "n_input = 784 # MNIST fashion data input (img shape: 28*28)\n",
        "# MNIST total classes (T-shirt/top', 'Trouser', 'Pullover', 'Dress', 'Coat', 'Sandal', 'Shirt', 'Sneaker', 'Bag', 'Ankle boot'])\n",
        "n_classes = 10"
      ],
      "execution_count": 0,
      "outputs": []
    },
    {
      "cell_type": "markdown",
      "metadata": {
        "id": "ZHdqz4oUAzeL",
        "colab_type": "text"
      },
      "source": [
        "## Multi Layer Perceptron Model with GradientDescentOptimizer & AdamOpitmizer"
      ]
    },
    {
      "cell_type": "code",
      "metadata": {
        "id": "F9r9Nyiff9xT",
        "colab_type": "code",
        "colab": {
          "base_uri": "https://localhost:8080/",
          "height": 1000
        },
        "outputId": "577aa223-775e-4793-adfd-515dd8ad851b"
      },
      "source": [
        "learning_rate = 0.001\n",
        "training_epochs = 2000\n",
        "## multilayer perceptron with GradientDescentOptimizer\n",
        "obj1 = multi_layer_perceptron(n_input,n_classes,learning_rate,training_epochs,my_optimizer=tf.train.GradientDescentOptimizer)\n",
        "print(\"Training MLP with GradientDescentOptimizer\")\n",
        "obj1.train_nn_model()\n",
        "del(obj1)\n",
        "## multilayer perceptron with AdamOptimizer\n",
        "obj2 = multi_layer_perceptron(n_input,n_classes,learning_rate,training_epochs,tf.train.AdamOptimizer)\n",
        "print(\"Training MLP with AdampOptimizer\")\n",
        "obj2.train_nn_model()\n",
        "del(obj2)"
      ],
      "execution_count": 10,
      "outputs": [
        {
          "output_type": "stream",
          "text": [
            "Training MLP with GradientDescentOptimizer\n",
            "Epoch: 0001 - cost= 194.181106567 - Accuracy= 0.122\n",
            "Epoch: 0201 - cost= 43.349071503 - Accuracy= 0.3742\n",
            "Epoch: 0401 - cost= 31.440103531 - Accuracy= 0.4727\n",
            "Epoch: 0601 - cost= 25.910541534 - Accuracy= 0.5233\n",
            "Epoch: 0801 - cost= 22.480371475 - Accuracy= 0.5588\n",
            "Epoch: 1001 - cost= 20.125013351 - Accuracy= 0.5807\n",
            "Epoch: 1201 - cost= 18.419265747 - Accuracy= 0.5991\n",
            "Epoch: 1401 - cost= 17.129316330 - Accuracy= 0.6166\n",
            "Epoch: 1601 - cost= 16.114797592 - Accuracy= 0.6304\n",
            "Epoch: 1801 - cost= 15.291001320 - Accuracy= 0.6438\n",
            "Optimization Finished!\n"
          ],
          "name": "stdout"
        },
        {
          "output_type": "display_data",
          "data": {
            "image/png": "[encoded data removed]",
            "text/plain": [
              "<Figure size 432x288 with 1 Axes>"
            ]
          },
          "metadata": {
            "tags": [],
            "needs_background": "light"
          }
        },
        {
          "output_type": "display_data",
          "data": {
            "image/png": "[encoded data removed]",
            "text/plain": [
              "<Figure size 432x288 with 1 Axes>"
            ]
          },
          "metadata": {
            "tags": [],
            "needs_background": "light"
          }
        },
        {
          "output_type": "stream",
          "text": [
            "Accuracy: 0.6518\n",
            "Training MLP with AdampOptimizer\n",
            "Epoch: 0001 - cost= 222.471435547 - Accuracy= 0.1349\n",
            "Epoch: 0201 - cost= 10.971575737 - Accuracy= 0.7141\n",
            "Epoch: 0401 - cost= 7.269620895 - Accuracy= 0.7669\n",
            "Epoch: 0601 - cost= 5.416084766 - Accuracy= 0.7894\n",
            "Epoch: 0801 - cost= 4.189482689 - Accuracy= 0.8036\n",
            "Epoch: 1001 - cost= 3.321231842 - Accuracy= 0.8101\n",
            "Epoch: 1201 - cost= 2.677579641 - Accuracy= 0.8135\n",
            "Epoch: 1401 - cost= 2.184933424 - Accuracy= 0.8197\n",
            "Epoch: 1601 - cost= 1.817395806 - Accuracy= 0.82\n",
            "Epoch: 1801 - cost= 1.527432561 - Accuracy= 0.8239\n",
            "Optimization Finished!\n"
          ],
          "name": "stdout"
        },
        {
          "output_type": "display_data",
          "data": {
            "image/png": "[encoded data removed]",
            "text/plain": [
              "<Figure size 432x288 with 1 Axes>"
            ]
          },
          "metadata": {
            "tags": [],
            "needs_background": "light"
          }
        },
        {
          "output_type": "display_data",
          "data": {
            "image/png": "[encoded data removed]",
            "text/plain": [
              "<Figure size 432x288 with 1 Axes>"
            ]
          },
          "metadata": {
            "tags": [],
            "needs_background": "light"
          }
        },
        {
          "output_type": "stream",
          "text": [
            "Accuracy: 0.8236\n"
          ],
          "name": "stdout"
        }
      ]
    },
    {
      "cell_type": "markdown",
      "metadata": {
        "id": "5qg-C9ctHG2q",
        "colab_type": "text"
      },
      "source": [
        "## Single Layer Perception for fashion_MNIST"
      ]
    },
    {
      "cell_type": "code",
      "metadata": {
        "id": "U4tWiEKFHqxW",
        "colab_type": "code",
        "colab": {
          "base_uri": "https://localhost:8080/",
          "height": 1000
        },
        "outputId": "0cc6c209-c1d5-4fd7-e322-8e53037d6092"
      },
      "source": [
        "# Parameters\n",
        "learning_rate = 0.0001\n",
        "training_epochs = 5000 \n",
        "## singlelayer perceptron with GradientDescentOptimizer\n",
        "obj1 = single_layer_perceptron(n_input,n_classes,learning_rate,training_epochs,my_optimizer=tf.train.GradientDescentOptimizer)\n",
        "print(\"Training SLP with GradientDescentOptimizer\")\n",
        "obj1.train_nn_model()\n",
        "del(obj1)\n",
        "## singlelayer perceptron with AdamOptimizer\n",
        "obj2 = single_layer_perceptron(n_input,n_classes,learning_rate,training_epochs,tf.train.AdamOptimizer)\n",
        "print(\"Training SLP with AdampOptimizer\")\n",
        "obj2.train_nn_model()\n",
        "del(obj2)"
      ],
      "execution_count": 11,
      "outputs": [
        {
          "output_type": "stream",
          "text": [
            "Training SLP with GradientDescentOptimizer\n",
            "Epoch: 0001 - cost= 251.092269897 - Accuracy= 0.0465\n",
            "Epoch: 0201 - cost= 148.718566895 - Accuracy= 0.0817\n",
            "Epoch: 0401 - cost= 100.374694824 - Accuracy= 0.1116\n",
            "Epoch: 0601 - cost= 79.623130798 - Accuracy= 0.1458\n",
            "Epoch: 0801 - cost= 69.046363831 - Accuracy= 0.1857\n",
            "Epoch: 1001 - cost= 62.274623871 - Accuracy= 0.2222\n",
            "Epoch: 1201 - cost= 57.122001648 - Accuracy= 0.2477\n",
            "Epoch: 1401 - cost= 52.872970581 - Accuracy= 0.2722\n",
            "Epoch: 1601 - cost= 49.279582977 - Accuracy= 0.2931\n",
            "Epoch: 1801 - cost= 46.232887268 - Accuracy= 0.3141\n",
            "Epoch: 2001 - cost= 43.636455536 - Accuracy= 0.3349\n",
            "Epoch: 2201 - cost= 41.408496857 - Accuracy= 0.353\n",
            "Epoch: 2401 - cost= 39.487518311 - Accuracy= 0.3661\n",
            "Epoch: 2601 - cost= 37.820060730 - Accuracy= 0.3811\n",
            "Epoch: 2801 - cost= 36.362617493 - Accuracy= 0.3963\n",
            "Epoch: 3001 - cost= 35.082351685 - Accuracy= 0.4093\n",
            "Epoch: 3201 - cost= 33.943885803 - Accuracy= 0.4217\n",
            "Epoch: 3401 - cost= 32.921211243 - Accuracy= 0.4304\n",
            "Epoch: 3601 - cost= 31.997674942 - Accuracy= 0.4382\n",
            "Epoch: 3801 - cost= 31.159967422 - Accuracy= 0.4474\n",
            "Epoch: 4001 - cost= 30.395898819 - Accuracy= 0.4553\n",
            "Epoch: 4201 - cost= 29.695714951 - Accuracy= 0.4625\n",
            "Epoch: 4401 - cost= 29.049087524 - Accuracy= 0.4708\n",
            "Epoch: 4601 - cost= 28.450046539 - Accuracy= 0.4789\n",
            "Epoch: 4801 - cost= 27.893415451 - Accuracy= 0.484\n",
            "Optimization Finished!\n"
          ],
          "name": "stdout"
        },
        {
          "output_type": "display_data",
          "data": {
            "image/png": "[encoded data removed]",
            "text/plain": [
              "<Figure size 432x288 with 1 Axes>"
            ]
          },
          "metadata": {
            "tags": [],
            "needs_background": "light"
          }
        },
        {
          "output_type": "display_data",
          "data": {
            "image/png": "[encoded data removed]",
            "text/plain": [
              "<Figure size 432x288 with 1 Axes>"
            ]
          },
          "metadata": {
            "tags": [],
            "needs_background": "light"
          }
        },
        {
          "output_type": "stream",
          "text": [
            "Accuracy: 0.4903\n",
            "Training SLP with AdampOptimizer\n",
            "Epoch: 0001 - cost= 362.241363525 - Accuracy= 0.1026\n",
            "Epoch: 0201 - cost= 77.482597351 - Accuracy= 0.2054\n",
            "Epoch: 0401 - cost= 36.243938446 - Accuracy= 0.3949\n",
            "Epoch: 0601 - cost= 24.291612625 - Accuracy= 0.5292\n",
            "Epoch: 0801 - cost= 19.480812073 - Accuracy= 0.5989\n",
            "Epoch: 1001 - cost= 16.655870438 - Accuracy= 0.6368\n",
            "Epoch: 1201 - cost= 14.659387589 - Accuracy= 0.6592\n",
            "Epoch: 1401 - cost= 13.050638199 - Accuracy= 0.6813\n",
            "Epoch: 1601 - cost= 11.918751717 - Accuracy= 0.6986\n",
            "Epoch: 1801 - cost= 11.019535065 - Accuracy= 0.7115\n",
            "Epoch: 2001 - cost= 10.262197495 - Accuracy= 0.7233\n",
            "Epoch: 2201 - cost= 9.592745781 - Accuracy= 0.7321\n",
            "Epoch: 2401 - cost= 8.999966621 - Accuracy= 0.7398\n",
            "Epoch: 2601 - cost= 8.470147133 - Accuracy= 0.7464\n",
            "Epoch: 2801 - cost= 7.992265224 - Accuracy= 0.7519\n",
            "Epoch: 3001 - cost= 7.561596394 - Accuracy= 0.7582\n",
            "Epoch: 3201 - cost= 7.162006378 - Accuracy= 0.7649\n",
            "Epoch: 3401 - cost= 6.786316872 - Accuracy= 0.7708\n",
            "Epoch: 3601 - cost= 6.425520897 - Accuracy= 0.7764\n",
            "Epoch: 3801 - cost= 6.084968567 - Accuracy= 0.7801\n",
            "Epoch: 4001 - cost= 5.755401134 - Accuracy= 0.7841\n",
            "Epoch: 4201 - cost= 5.447084427 - Accuracy= 0.7866\n",
            "Epoch: 4401 - cost= 5.158989429 - Accuracy= 0.7912\n",
            "Epoch: 4601 - cost= 4.886985779 - Accuracy= 0.7946\n",
            "Epoch: 4801 - cost= 4.629143238 - Accuracy= 0.7963\n",
            "Optimization Finished!\n"
          ],
          "name": "stdout"
        },
        {
          "output_type": "display_data",
          "data": {
            "image/png": "[encoded data removed]",
            "text/plain": [
              "<Figure size 432x288 with 1 Axes>"
            ]
          },
          "metadata": {
            "tags": [],
            "needs_background": "light"
          }
        },
        {
          "output_type": "display_data",
          "data": {
            "image/png": "[encoded data removed]",
            "text/plain": [
              "<Figure size 432x288 with 1 Axes>"
            ]
          },
          "metadata": {
            "tags": [],
            "needs_background": "light"
          }
        },
        {
          "output_type": "stream",
          "text": [
            "Accuracy: 0.7989\n"
          ],
          "name": "stdout"
        }
      ]
    }
  ]
}