{
  "nbformat": 4,
  "nbformat_minor": 0,
  "metadata": {
    "colab": {
      "name": "Assign02.ipynb",
      "provenance": [],
      "collapsed_sections": []
    },
    "kernelspec": {
      "name": "python3",
      "display_name": "Python 3"
    },
    "accelerator": "GPU"
  },
  "cells": [
    {
      "cell_type": "code",
      "metadata": {
        "id": "l2SWXJeLViFj",
        "colab_type": "code",
        "outputId": "3f979570-b7bc-472f-c80d-0ef28b301be4",
        "colab": {
          "base_uri": "https://localhost:8080/",
          "height": 401
        }
      },
      "source": [
        "#Fetch Data from website\n",
        "!wget https://www.dropbox.com/s/n8bninud94blch4/fer2013.csv"
      ],
      "execution_count": 1,
      "outputs": [
        {
          "output_type": "stream",
          "text": [
            "--2020-06-03 19:05:52--  https://www.dropbox.com/s/n8bninud94blch4/fer2013.csv\n",
            "Resolving www.dropbox.com (www.dropbox.com)... 162.125.9.1, 2620:100:601f:1::a27d:901\n",
            "Connecting to www.dropbox.com (www.dropbox.com)|162.125.9.1|:443... connected.\n",
            "HTTP request sent, awaiting response... 301 Moved Permanently\n",
            "Location: /s/raw/n8bninud94blch4/fer2013.csv [following]\n",
            "--2020-06-03 19:05:52--  https://www.dropbox.com/s/raw/n8bninud94blch4/fer2013.csv\n",
            "Reusing existing connection to www.dropbox.com:443.\n",
            "HTTP request sent, awaiting response... 302 Found\n",
            "Location: https://uca5ea90b2d54d6aa0d10a9ab34e.dl.dropboxusercontent.com/cd/0/inline/A4_f-dIgmI18KpnJWo_l2eA3j54WrAoF_X-EigTtaDHdQ2WSnpmKHkLE0evQiEIWcELXssTgBqKIPvft5DFK9WZSNUfuhbgKTY3IZ-ZLJjDP_wtZBfnYosuklMFXavO3s44/file# [following]\n",
            "--2020-06-03 19:05:52--  https://uca5ea90b2d54d6aa0d10a9ab34e.dl.dropboxusercontent.com/cd/0/inline/A4_f-dIgmI18KpnJWo_l2eA3j54WrAoF_X-EigTtaDHdQ2WSnpmKHkLE0evQiEIWcELXssTgBqKIPvft5DFK9WZSNUfuhbgKTY3IZ-ZLJjDP_wtZBfnYosuklMFXavO3s44/file\n",
            "Resolving uca5ea90b2d54d6aa0d10a9ab34e.dl.dropboxusercontent.com (uca5ea90b2d54d6aa0d10a9ab34e.dl.dropboxusercontent.com)... 162.125.9.6, 2620:100:601b:6::a27d:806\n",
            "Connecting to uca5ea90b2d54d6aa0d10a9ab34e.dl.dropboxusercontent.com (uca5ea90b2d54d6aa0d10a9ab34e.dl.dropboxusercontent.com)|162.125.9.6|:443... connected.\n",
            "HTTP request sent, awaiting response... 200 OK\n",
            "Length: 301072766 (287M) [text/plain]\n",
            "Saving to: ‘fer2013.csv.3’\n",
            "\n",
            "fer2013.csv.3       100%[===================>] 287.12M  35.4MB/s    in 8.2s    \n",
            "\n",
            "2020-06-03 19:06:01 (35.1 MB/s) - ‘fer2013.csv.3’ saved [301072766/301072766]\n",
            "\n"
          ],
          "name": "stdout"
        }
      ]
    },
    {
      "cell_type": "markdown",
      "metadata": {
        "id": "yYUB6mSzXINu",
        "colab_type": "text"
      },
      "source": [
        "## Loading Pandas Dataframe"
      ]
    },
    {
      "cell_type": "code",
      "metadata": {
        "id": "vzcaSym6WSRL",
        "colab_type": "code",
        "outputId": "0114aa0d-aa26-48f0-da74-b9b27a0a8791",
        "colab": {
          "base_uri": "https://localhost:8080/",
          "height": 306
        }
      },
      "source": [
        "%tensorflow_version 1.x\n",
        "import pandas as pd\n",
        "import numpy as np\n",
        "df = pd.read_csv('fer2013.csv')\n",
        "df.describe()"
      ],
      "execution_count": 2,
      "outputs": [
        {
          "output_type": "stream",
          "text": [
            "TensorFlow 1.x selected.\n"
          ],
          "name": "stdout"
        },
        {
          "output_type": "execute_result",
          "data": {
            "text/html": [
              "<div>\n",
              "<style scoped>\n",
              "    .dataframe tbody tr th:only-of-type {\n",
              "        vertical-align: middle;\n",
              "    }\n",
              "\n",
              "    .dataframe tbody tr th {\n",
              "        vertical-align: top;\n",
              "    }\n",
              "\n",
              "    .dataframe thead th {\n",
              "        text-align: right;\n",
              "    }\n",
              "</style>\n",
              "<table border=\"1\" class=\"dataframe\">\n",
              "  <thead>\n",
              "    <tr style=\"text-align: right;\">\n",
              "      <th></th>\n",
              "      <th>emotion</th>\n",
              "    </tr>\n",
              "  </thead>\n",
              "  <tbody>\n",
              "    <tr>\n",
              "      <th>count</th>\n",
              "      <td>35887.000000</td>\n",
              "    </tr>\n",
              "    <tr>\n",
              "      <th>mean</th>\n",
              "      <td>3.323265</td>\n",
              "    </tr>\n",
              "    <tr>\n",
              "      <th>std</th>\n",
              "      <td>1.873819</td>\n",
              "    </tr>\n",
              "    <tr>\n",
              "      <th>min</th>\n",
              "      <td>0.000000</td>\n",
              "    </tr>\n",
              "    <tr>\n",
              "      <th>25%</th>\n",
              "      <td>2.000000</td>\n",
              "    </tr>\n",
              "    <tr>\n",
              "      <th>50%</th>\n",
              "      <td>3.000000</td>\n",
              "    </tr>\n",
              "    <tr>\n",
              "      <th>75%</th>\n",
              "      <td>5.000000</td>\n",
              "    </tr>\n",
              "    <tr>\n",
              "      <th>max</th>\n",
              "      <td>6.000000</td>\n",
              "    </tr>\n",
              "  </tbody>\n",
              "</table>\n",
              "</div>"
            ],
            "text/plain": [
              "            emotion\n",
              "count  35887.000000\n",
              "mean       3.323265\n",
              "std        1.873819\n",
              "min        0.000000\n",
              "25%        2.000000\n",
              "50%        3.000000\n",
              "75%        5.000000\n",
              "max        6.000000"
            ]
          },
          "metadata": {
            "tags": []
          },
          "execution_count": 2
        }
      ]
    },
    {
      "cell_type": "code",
      "metadata": {
        "id": "9h4YONucWfEQ",
        "colab_type": "code",
        "outputId": "e2aebe5a-46dc-455e-e93d-81a894fc2973",
        "colab": {
          "base_uri": "https://localhost:8080/",
          "height": 198
        }
      },
      "source": [
        "df.head()"
      ],
      "execution_count": 3,
      "outputs": [
        {
          "output_type": "execute_result",
          "data": {
            "text/html": [
              "<div>\n",
              "<style scoped>\n",
              "    .dataframe tbody tr th:only-of-type {\n",
              "        vertical-align: middle;\n",
              "    }\n",
              "\n",
              "    .dataframe tbody tr th {\n",
              "        vertical-align: top;\n",
              "    }\n",
              "\n",
              "    .dataframe thead th {\n",
              "        text-align: right;\n",
              "    }\n",
              "</style>\n",
              "<table border=\"1\" class=\"dataframe\">\n",
              "  <thead>\n",
              "    <tr style=\"text-align: right;\">\n",
              "      <th></th>\n",
              "      <th>emotion</th>\n",
              "      <th>pixels</th>\n",
              "      <th>Usage</th>\n",
              "    </tr>\n",
              "  </thead>\n",
              "  <tbody>\n",
              "    <tr>\n",
              "      <th>0</th>\n",
              "      <td>0</td>\n",
              "      <td>70 80 82 72 58 58 60 63 54 58 60 48 89 115 121...</td>\n",
              "      <td>Training</td>\n",
              "    </tr>\n",
              "    <tr>\n",
              "      <th>1</th>\n",
              "      <td>0</td>\n",
              "      <td>151 150 147 155 148 133 111 140 170 174 182 15...</td>\n",
              "      <td>Training</td>\n",
              "    </tr>\n",
              "    <tr>\n",
              "      <th>2</th>\n",
              "      <td>2</td>\n",
              "      <td>231 212 156 164 174 138 161 173 182 200 106 38...</td>\n",
              "      <td>Training</td>\n",
              "    </tr>\n",
              "    <tr>\n",
              "      <th>3</th>\n",
              "      <td>4</td>\n",
              "      <td>24 32 36 30 32 23 19 20 30 41 21 22 32 34 21 1...</td>\n",
              "      <td>Training</td>\n",
              "    </tr>\n",
              "    <tr>\n",
              "      <th>4</th>\n",
              "      <td>6</td>\n",
              "      <td>4 0 0 0 0 0 0 0 0 0 0 0 3 15 23 28 48 50 58 84...</td>\n",
              "      <td>Training</td>\n",
              "    </tr>\n",
              "  </tbody>\n",
              "</table>\n",
              "</div>"
            ],
            "text/plain": [
              "   emotion                                             pixels     Usage\n",
              "0        0  70 80 82 72 58 58 60 63 54 58 60 48 89 115 121...  Training\n",
              "1        0  151 150 147 155 148 133 111 140 170 174 182 15...  Training\n",
              "2        2  231 212 156 164 174 138 161 173 182 200 106 38...  Training\n",
              "3        4  24 32 36 30 32 23 19 20 30 41 21 22 32 34 21 1...  Training\n",
              "4        6  4 0 0 0 0 0 0 0 0 0 0 0 3 15 23 28 48 50 58 84...  Training"
            ]
          },
          "metadata": {
            "tags": []
          },
          "execution_count": 3
        }
      ]
    },
    {
      "cell_type": "code",
      "metadata": {
        "id": "BPL8r7VSWlN0",
        "colab_type": "code",
        "outputId": "7d01a643-2db7-4fd4-9a1b-4c0caca86f57",
        "colab": {
          "base_uri": "https://localhost:8080/",
          "height": 35
        }
      },
      "source": [
        "df['Usage'].unique()"
      ],
      "execution_count": 4,
      "outputs": [
        {
          "output_type": "execute_result",
          "data": {
            "text/plain": [
              "array(['Training', 'PublicTest', 'PrivateTest'], dtype=object)"
            ]
          },
          "metadata": {
            "tags": []
          },
          "execution_count": 4
        }
      ]
    },
    {
      "cell_type": "markdown",
      "metadata": {
        "id": "RQIA1VEGFFh9",
        "colab_type": "text"
      },
      "source": [
        "## Formating data\n",
        "Q1: Reshape and Normalize the data\n",
        "\n",
        "Q2: Normalize & Train_Test Split\n"
      ]
    },
    {
      "cell_type": "code",
      "metadata": {
        "id": "w6BCHumPAWlj",
        "colab_type": "code",
        "colab": {
          "base_uri": "https://localhost:8080/",
          "height": 54
        },
        "outputId": "ba995bac-3578-48c0-afda-d7ed88c7ff4b"
      },
      "source": [
        "from sklearn.model_selection import train_test_split\n",
        "# Taking entire set irrespective of classes and using train_test_split \n",
        "X = np.array(list(map(str.split, df.pixels)), np.float32)\n",
        "X = X.astype('float')\n",
        "X = X/255\n",
        "\n",
        "y=np.array(df['emotion'])\n",
        "\n",
        "X_train, X_test, y_train, y_test = train_test_split(X,y,test_size=0.10, random_state=42)\n",
        "\n",
        "#print(len(X_train), len(y_test))\n",
        "print(\"X_train.shape = \", X_train.shape)\n",
        "print(\"y_test.shape = \", y_test.shape)\n",
        "\n",
        "from tensorflow.keras.utils import to_categorical\n",
        "num_classes = 7 # clases as per dataset (0=Angry, 1=Disgust, 2=Fear, 3=Happy, 4=Sad,5=Surprise, 6=Neutral)\n",
        "#y_nc_train,y_nc_test = y_train, y_test # backup non-categorical data :)\n",
        "y_train = to_categorical(y_train,num_classes)\n",
        "y_test = to_categorical(y_test, num_classes)\n",
        "\n",
        "img_rows,img_cols = 48,48\n",
        "X_train = X_train.reshape(X_train.shape[0],img_rows, img_cols,1)\n",
        "X_test = X_test.reshape(X_test.shape[0],img_rows, img_cols,1)\n",
        "input_shape = (img_rows, img_cols, 1)\n"
      ],
      "execution_count": 5,
      "outputs": [
        {
          "output_type": "stream",
          "text": [
            "X_train.shape =  (32298, 2304)\n",
            "y_test.shape =  (3589,)\n"
          ],
          "name": "stdout"
        }
      ]
    },
    {
      "cell_type": "code",
      "metadata": {
        "id": "fbMtL8N2wGbY",
        "colab_type": "code",
        "outputId": "f49cdb5b-40f2-4513-88ca-96529a223efd",
        "colab": {
          "base_uri": "https://localhost:8080/",
          "height": 35
        }
      },
      "source": [
        "import matplotlib.pyplot as plt\n",
        "import matplotlib.image as mpimg\n",
        "\n",
        "import keras\n",
        "from keras.models import Sequential\n",
        "#from keras.preprocessing.image import ImageDataGenerator\n",
        "from keras.layers import BatchNormalization\n",
        "from keras.layers import Conv2D, MaxPool2D, Dense, Flatten\n",
        "from keras.utils import normalize, to_categorical\n",
        "from keras.layers import Activation, Dropout"
      ],
      "execution_count": 6,
      "outputs": [
        {
          "output_type": "stream",
          "text": [
            "Using TensorFlow backend.\n"
          ],
          "name": "stderr"
        }
      ]
    },
    {
      "cell_type": "markdown",
      "metadata": {
        "id": "QhRlLjTEXur1",
        "colab_type": "text"
      },
      "source": [
        "## Creating CNN keras model\n",
        "Q3: Define CNN Model"
      ]
    },
    {
      "cell_type": "code",
      "metadata": {
        "id": "nqwth2wY0VDh",
        "colab_type": "code",
        "outputId": "b859b3be-9ccb-4b7a-9cd6-954b6380ba27",
        "colab": {
          "base_uri": "https://localhost:8080/",
          "height": 128
        }
      },
      "source": [
        "model = Sequential() #keras model\n",
        "\n",
        "#Layer 1\n",
        "model.add(Conv2D(64,kernel_size = (5,5),padding=\"same\", input_shape=(input_shape)))\n",
        "model.add(Conv2D(64,kernel_size = (3,3),padding=\"same\"))\n",
        "model.add(BatchNormalization())\n",
        "model.add(MaxPool2D(pool_size=(2,2)))\n",
        "model.add(Activation('relu'))\n",
        "#model.summary()\n",
        "\n",
        "#Layer 2\n",
        "model.add(Conv2D(128,kernel_size = (5,5),padding=\"same\"))\n",
        "model.add(Conv2D(128,kernel_size = (5,5),padding=\"same\"))\n",
        "model.add(BatchNormalization())\n",
        "model.add(MaxPool2D(pool_size=(2,2)))\n",
        "model.add(Activation('relu'))\n",
        "#model.summary()\n",
        "\n",
        "#Layer 3\n",
        "model.add(Conv2D(256,kernel_size =(3,3),padding=\"same\"))\n",
        "model.add(Conv2D(256,kernel_size =(3,3),padding=\"same\"))\n",
        "model.add(BatchNormalization())\n",
        "model.add(MaxPool2D(pool_size=(2,2)))\n",
        "model.add(Activation('relu'))\n",
        "#model.summary()\n",
        "\n",
        "#Layer 4\n",
        "model.add(Flatten())\n",
        "model.add(Dense(128, activation='relu'))\n",
        "model.add(BatchNormalization())\n",
        "model.add(Activation('relu'))\n",
        "model.add(Dropout(0.25))\n",
        "model.add(Dense(num_classes,activation='softmax'))\n"
      ],
      "execution_count": 7,
      "outputs": [
        {
          "output_type": "stream",
          "text": [
            "WARNING:tensorflow:From /tensorflow-1.15.2/python3.6/tensorflow_core/python/ops/resource_variable_ops.py:1630: calling BaseResourceVariable.__init__ (from tensorflow.python.ops.resource_variable_ops) with constraint is deprecated and will be removed in a future version.\n",
            "Instructions for updating:\n",
            "If using Keras pass *_constraint arguments to layers.\n",
            "WARNING:tensorflow:From /usr/local/lib/python3.6/dist-packages/keras/backend/tensorflow_backend.py:4070: The name tf.nn.max_pool is deprecated. Please use tf.nn.max_pool2d instead.\n",
            "\n"
          ],
          "name": "stdout"
        }
      ]
    },
    {
      "cell_type": "markdown",
      "metadata": {
        "id": "oq9iBmGEYGnr",
        "colab_type": "text"
      },
      "source": [
        "## Plotting model and list model summary"
      ]
    },
    {
      "cell_type": "code",
      "metadata": {
        "id": "-lCW58QKBYlc",
        "colab_type": "code",
        "colab": {
          "base_uri": "https://localhost:8080/",
          "height": 926
        },
        "outputId": "a1808f21-fb3c-47b5-e331-ec8e30d040c2"
      },
      "source": [
        "keras.utils.plot_model(model, \"my_first_model.png\",show_shapes=True)\n",
        "model.summary()"
      ],
      "execution_count": 8,
      "outputs": [
        {
          "output_type": "stream",
          "text": [
            "Model: \"sequential_1\"\n",
            "_________________________________________________________________\n",
            "Layer (type)                 Output Shape              Param #   \n",
            "=================================================================\n",
            "conv2d_1 (Conv2D)            (None, 48, 48, 64)        1664      \n",
            "_________________________________________________________________\n",
            "conv2d_2 (Conv2D)            (None, 48, 48, 64)        36928     \n",
            "_________________________________________________________________\n",
            "batch_normalization_1 (Batch (None, 48, 48, 64)        256       \n",
            "_________________________________________________________________\n",
            "max_pooling2d_1 (MaxPooling2 (None, 24, 24, 64)        0         \n",
            "_________________________________________________________________\n",
            "activation_1 (Activation)    (None, 24, 24, 64)        0         \n",
            "_________________________________________________________________\n",
            "conv2d_3 (Conv2D)            (None, 24, 24, 128)       204928    \n",
            "_________________________________________________________________\n",
            "conv2d_4 (Conv2D)            (None, 24, 24, 128)       409728    \n",
            "_________________________________________________________________\n",
            "batch_normalization_2 (Batch (None, 24, 24, 128)       512       \n",
            "_________________________________________________________________\n",
            "max_pooling2d_2 (MaxPooling2 (None, 12, 12, 128)       0         \n",
            "_________________________________________________________________\n",
            "activation_2 (Activation)    (None, 12, 12, 128)       0         \n",
            "_________________________________________________________________\n",
            "conv2d_5 (Conv2D)            (None, 12, 12, 256)       295168    \n",
            "_________________________________________________________________\n",
            "conv2d_6 (Conv2D)            (None, 12, 12, 256)       590080    \n",
            "_________________________________________________________________\n",
            "batch_normalization_3 (Batch (None, 12, 12, 256)       1024      \n",
            "_________________________________________________________________\n",
            "max_pooling2d_3 (MaxPooling2 (None, 6, 6, 256)         0         \n",
            "_________________________________________________________________\n",
            "activation_3 (Activation)    (None, 6, 6, 256)         0         \n",
            "_________________________________________________________________\n",
            "flatten_1 (Flatten)          (None, 9216)              0         \n",
            "_________________________________________________________________\n",
            "dense_1 (Dense)              (None, 128)               1179776   \n",
            "_________________________________________________________________\n",
            "batch_normalization_4 (Batch (None, 128)               512       \n",
            "_________________________________________________________________\n",
            "activation_4 (Activation)    (None, 128)               0         \n",
            "_________________________________________________________________\n",
            "dropout_1 (Dropout)          (None, 128)               0         \n",
            "_________________________________________________________________\n",
            "dense_2 (Dense)              (None, 7)                 903       \n",
            "=================================================================\n",
            "Total params: 2,721,479\n",
            "Trainable params: 2,720,327\n",
            "Non-trainable params: 1,152\n",
            "_________________________________________________________________\n"
          ],
          "name": "stdout"
        }
      ]
    },
    {
      "cell_type": "markdown",
      "metadata": {
        "id": "-TYOCOhfYYqF",
        "colab_type": "text"
      },
      "source": [
        "## Setting up model to train.\n",
        "Q4: Fit CNN Model"
      ]
    },
    {
      "cell_type": "code",
      "metadata": {
        "id": "_XeXxpFZZOi4",
        "colab_type": "code",
        "colab": {
          "base_uri": "https://localhost:8080/",
          "height": 837
        },
        "outputId": "796a141a-a7c8-41ae-f3c5-8d0a7642b4e9"
      },
      "source": [
        "model.compile(loss='categorical_crossentropy', # Cross-entropy\n",
        "          optimizer=keras.optimizers.Adam(learning_rate=0.001), # Adam optimizer lr=1e-3\n",
        "          metrics=['accuracy']) # Accuracy performance metric\n",
        "\n",
        "model.fit(X_train, y_train, batch_size=64, epochs=20, validation_split=0.2)"
      ],
      "execution_count": 9,
      "outputs": [
        {
          "output_type": "stream",
          "text": [
            "WARNING:tensorflow:From /usr/local/lib/python3.6/dist-packages/keras/backend/tensorflow_backend.py:422: The name tf.global_variables is deprecated. Please use tf.compat.v1.global_variables instead.\n",
            "\n",
            "Train on 25838 samples, validate on 6460 samples\n",
            "Epoch 1/20\n",
            "25838/25838 [==============================] - 39s 1ms/step - loss: 1.6518 - accuracy: 0.3646 - val_loss: 2.2993 - val_accuracy: 0.3356\n",
            "Epoch 2/20\n",
            "25838/25838 [==============================] - 34s 1ms/step - loss: 1.3237 - accuracy: 0.4935 - val_loss: 1.3202 - val_accuracy: 0.4972\n",
            "Epoch 3/20\n",
            "25838/25838 [==============================] - 34s 1ms/step - loss: 1.2024 - accuracy: 0.5452 - val_loss: 1.3968 - val_accuracy: 0.4870\n",
            "Epoch 4/20\n",
            "25838/25838 [==============================] - 34s 1ms/step - loss: 1.1386 - accuracy: 0.5723 - val_loss: 1.3902 - val_accuracy: 0.4706\n",
            "Epoch 5/20\n",
            "25838/25838 [==============================] - 34s 1ms/step - loss: 1.0858 - accuracy: 0.5896 - val_loss: 1.2032 - val_accuracy: 0.5478\n",
            "Epoch 6/20\n",
            "25838/25838 [==============================] - 34s 1ms/step - loss: 1.0426 - accuracy: 0.6071 - val_loss: 1.3246 - val_accuracy: 0.5183\n",
            "Epoch 7/20\n",
            "25838/25838 [==============================] - 34s 1ms/step - loss: 0.9980 - accuracy: 0.6246 - val_loss: 2.0770 - val_accuracy: 0.4392\n",
            "Epoch 8/20\n",
            "25838/25838 [==============================] - 34s 1ms/step - loss: 0.9432 - accuracy: 0.6484 - val_loss: 1.1835 - val_accuracy: 0.5845\n",
            "Epoch 9/20\n",
            "25838/25838 [==============================] - 34s 1ms/step - loss: 0.9090 - accuracy: 0.6602 - val_loss: 2.9486 - val_accuracy: 0.2794\n",
            "Epoch 10/20\n",
            "25838/25838 [==============================] - 34s 1ms/step - loss: 0.8507 - accuracy: 0.6786 - val_loss: 1.3583 - val_accuracy: 0.5594\n",
            "Epoch 11/20\n",
            "25838/25838 [==============================] - 34s 1ms/step - loss: 0.7910 - accuracy: 0.7071 - val_loss: 1.4269 - val_accuracy: 0.5488\n",
            "Epoch 12/20\n",
            "25838/25838 [==============================] - 34s 1ms/step - loss: 0.7362 - accuracy: 0.7248 - val_loss: 1.4029 - val_accuracy: 0.5362\n",
            "Epoch 13/20\n",
            "25838/25838 [==============================] - 37s 1ms/step - loss: 0.6765 - accuracy: 0.7482 - val_loss: 1.2841 - val_accuracy: 0.5780\n",
            "Epoch 14/20\n",
            "25838/25838 [==============================] - 37s 1ms/step - loss: 0.6061 - accuracy: 0.7749 - val_loss: 1.2506 - val_accuracy: 0.5958\n",
            "Epoch 15/20\n",
            "25838/25838 [==============================] - 36s 1ms/step - loss: 0.5429 - accuracy: 0.8010 - val_loss: 1.3607 - val_accuracy: 0.5839\n",
            "Epoch 16/20\n",
            "25838/25838 [==============================] - 36s 1ms/step - loss: 0.4958 - accuracy: 0.8151 - val_loss: 1.3475 - val_accuracy: 0.5841\n",
            "Epoch 17/20\n",
            "25838/25838 [==============================] - 37s 1ms/step - loss: 0.4408 - accuracy: 0.8367 - val_loss: 1.6292 - val_accuracy: 0.5834\n",
            "Epoch 18/20\n",
            "25838/25838 [==============================] - 37s 1ms/step - loss: 0.3961 - accuracy: 0.8532 - val_loss: 1.6982 - val_accuracy: 0.5902\n",
            "Epoch 19/20\n",
            "25838/25838 [==============================] - 36s 1ms/step - loss: 0.3443 - accuracy: 0.8739 - val_loss: 1.7374 - val_accuracy: 0.5940\n",
            "Epoch 20/20\n",
            "25838/25838 [==============================] - 37s 1ms/step - loss: 0.3030 - accuracy: 0.8887 - val_loss: 1.9042 - val_accuracy: 0.5889\n"
          ],
          "name": "stdout"
        },
        {
          "output_type": "execute_result",
          "data": {
            "text/plain": [
              "<keras.callbacks.callbacks.History at 0x7f6c9cbd8128>"
            ]
          },
          "metadata": {
            "tags": []
          },
          "execution_count": 9
        }
      ]
    },
    {
      "cell_type": "markdown",
      "metadata": {
        "id": "FXO_kodZYrtb",
        "colab_type": "text"
      },
      "source": [
        "## Confusion matrix\n",
        "Q5: Draw confusion matrix for the trained model."
      ]
    },
    {
      "cell_type": "code",
      "metadata": {
        "id": "A5WH4MiAIGPF",
        "colab_type": "code",
        "colab": {
          "base_uri": "https://localhost:8080/",
          "height": 435
        },
        "outputId": "a6285454-c4ee-4897-8640-0baca57cb042"
      },
      "source": [
        "from sklearn.metrics import classification_report, confusion_matrix\n",
        "\n",
        "#Confution Matrix and Classification Report\n",
        "Y_pred = model.predict_classes(X_test)\n",
        "rounded_y=np.argmax(y_test, axis=1)\n",
        "\n",
        "print('Confusion Matrix')\n",
        "print(confusion_matrix(rounded_y, Y_pred))\n",
        "\n",
        "print('Classification Report')\n",
        "labels = ['Angry', 'Disgust', 'Fear', 'Happy', 'Sad','Surprise', 'Neutral']\n",
        "print(classification_report(rounded_y, Y_pred, target_names=labels))"
      ],
      "execution_count": 10,
      "outputs": [
        {
          "output_type": "stream",
          "text": [
            "Confusion Matrix\n",
            "[[186   1 108  35  88  17  63]\n",
            " [ 10  19   7   1  11   1   3]\n",
            " [ 36   1 251  31 124  55  47]\n",
            " [ 16   0  40 716  44  27  38]\n",
            " [ 42   1  97  42 308   9  89]\n",
            " [  3   0  56  25  15 304  11]\n",
            " [ 28   0  81  59 139  14 290]]\n",
            "Classification Report\n",
            "              precision    recall  f1-score   support\n",
            "\n",
            "       Angry       0.58      0.37      0.45       498\n",
            "     Disgust       0.86      0.37      0.51        52\n",
            "        Fear       0.39      0.46      0.42       545\n",
            "       Happy       0.79      0.81      0.80       881\n",
            "         Sad       0.42      0.52      0.47       588\n",
            "    Surprise       0.71      0.73      0.72       414\n",
            "     Neutral       0.54      0.47      0.50       611\n",
            "\n",
            "    accuracy                           0.58      3589\n",
            "   macro avg       0.61      0.53      0.56      3589\n",
            "weighted avg       0.59      0.58      0.58      3589\n",
            "\n"
          ],
          "name": "stdout"
        }
      ]
    },
    {
      "cell_type": "markdown",
      "metadata": {
        "id": "3SuAHaEdgrzQ",
        "colab_type": "text"
      },
      "source": [
        "## Saving/Loading the model Keras & tensorflow\n",
        "Q6: Save the model to external .h5 File\n",
        "\n",
        "Q7: Convert the saved model to .pb model"
      ]
    },
    {
      "cell_type": "code",
      "metadata": {
        "id": "xg0p4WltPLqu",
        "colab_type": "code",
        "colab": {
          "base_uri": "https://localhost:8080/",
          "height": 54
        },
        "outputId": "cedd4528-4ea0-4a79-a610-2c7adb5213a5"
      },
      "source": [
        "from keras import backend as K\n",
        "\n",
        "# Save the model of faces & emotions in h5 format\n",
        "model.save('model-nn/faces_emotions_model.h5')\n",
        "\n",
        "# This line must be executed before loading Keras model.\n",
        "K.set_learning_phase(0)\n",
        "\n",
        "# Loading the saved model to new instance.\n",
        "model_new = keras.models.load_model('model-nn/faces_emotions_model.h5')\n",
        "print(model_new.inputs)\n",
        "print(model_new.outputs)"
      ],
      "execution_count": 11,
      "outputs": [
        {
          "output_type": "stream",
          "text": [
            "[<tf.Tensor 'conv2d_1_input_1:0' shape=(?, 48, 48, 1) dtype=float32>]\n",
            "[<tf.Tensor 'dense_2_1/Softmax:0' shape=(?, 7) dtype=float32>]\n"
          ],
          "name": "stdout"
        }
      ]
    },
    {
      "cell_type": "code",
      "metadata": {
        "id": "FJJeYK_Ph1_B",
        "colab_type": "code",
        "colab": {
          "base_uri": "https://localhost:8080/",
          "height": 219
        },
        "outputId": "9c750e65-17f3-4e9b-81bc-4f567aad72ef"
      },
      "source": [
        "## reference : https://www.dlology.com/blog/how-to-convert-trained-keras-model-to-tensorflow-and-make-prediction/\n",
        "import tensorflow as tf\n",
        "from tensorflow.python.framework.graph_util import convert_variables_to_constants\n",
        "\n",
        "output_names = [out.op.name for out in model.outputs]\n",
        "keep_var_names=None\n",
        "clear_devices=True\n",
        "sess = K.get_session()\n",
        "graph = sess.graph\n",
        "frozen_graph = []\n",
        "with graph.as_default():\n",
        "  freeze_var_names = list(set(v.op.name for v in tf.global_variables()).difference(keep_var_names or []))\n",
        "  print(freeze_var_names)\n",
        "  output_names = output_names or []\n",
        "  output_names += [v.op.name for v in tf.global_variables()]\n",
        "  # Graph -> GraphDef ProtoBuf\n",
        "  input_graph_def = graph.as_graph_def()\n",
        "  if clear_devices:\n",
        "      for node in input_graph_def.node:\n",
        "          node.device = \"\"\n",
        "  frozen_graph = convert_variables_to_constants(sess, input_graph_def, output_names, freeze_var_names)\n",
        "\n",
        "# Save to .pb format\n",
        "tf.train.write_graph(frozen_graph, \"model-nn\", \"faces_emotions_model.pb\", as_text=False)\n"
      ],
      "execution_count": 12,
      "outputs": [
        {
          "output_type": "stream",
          "text": [
            "['conv2d_2/bias', 'batch_normalization_3_1/moving_mean', 'training/Adam/m_20_1', 'training/Adam/m_13_1', 'training/Adam/vhat_15_1', 'conv2d_3/bias', 'dense_1_1/bias', 'training_1/Adam/v_7_1', 'batch_normalization_2_1/gamma', 'training/Adam/vhat_0_1', 'training_1/Adam/vhat_21_1', 'conv2d_4_1/kernel', 'batch_normalization_3_1/moving_variance', 'training/Adam/vhat_3_1', 'batch_normalization_4/beta', 'training_1/Adam/m_8_1', 'conv2d_6/bias', 'training/Adam/m_9_1', 'training/Adam/m_18_1', 'training/Adam/m_10_1', 'conv2d_6_1/bias', 'training_1/Adam/m_17_1', 'training_1/Adam/m_1_1', 'training/Adam/v_15_1', 'training/Adam/vhat_14_1', 'dense_2_1/bias', 'training/Adam/vhat_12_1', 'training_1/Adam/vhat_3_1', 'training/Adam/vhat_22_1', 'training_1/Adam/m_3_1', 'training/Adam/m_7_1', 'training/Adam/m_8_1', 'training/Adam/vhat_21_1', 'training_1/Adam/v_5_1', 'training_1/Adam/vhat_16_1', 'training_1/Adam/vhat_7_1', 'training_1/Adam/vhat_18_1', 'training/Adam/m_6_1', 'batch_normalization_1/moving_mean', 'training/Adam/vhat_5_1', 'conv2d_6_1/kernel', 'Adam/iterations', 'conv2d_5/kernel', 'training_1/Adam/m_20_1', 'training/Adam/vhat_23_1', 'conv2d_2/kernel', 'training/Adam/m_0_1', 'training_1/Adam/v_4_1', 'Adam_1/beta_2', 'training_1/Adam/vhat_23_1', 'batch_normalization_3/gamma', 'training/Adam/m_22_1', 'training/Adam/v_16_1', 'training/Adam/v_9_1', 'training/Adam/v_23_1', 'training/Adam/v_20_1', 'training_1/Adam/v_2_1', 'conv2d_4/bias', 'training/Adam/vhat_1_1', 'conv2d_3/kernel', 'training_1/Adam/vhat_5_1', 'Adam/learning_rate', 'batch_normalization_2_1/moving_mean', 'training_1/Adam/v_10_1', 'training_1/Adam/v_6_1', 'training_1/Adam/m_11_1', 'batch_normalization_1_1/moving_mean', 'conv2d_4/kernel', 'training/Adam/v_8_1', 'training_1/Adam/v_20_1', 'training/Adam/v_3_1', 'training/Adam/vhat_4_1', 'training_1/Adam/m_23_1', 'training/Adam/v_2_1', 'total_1', 'training_1/Adam/v_13_1', 'training_1/Adam/vhat_9_1', 'batch_normalization_4_1/gamma', 'batch_normalization_2/beta', 'training_1/Adam/vhat_0_1', 'training_1/Adam/v_0_1', 'dense_2/bias', 'count', 'batch_normalization_4/moving_mean', 'training/Adam/vhat_13_1', 'training/Adam/v_21_1', 'training_1/Adam/vhat_20_1', 'batch_normalization_2/moving_variance', 'training/Adam/vhat_17_1', 'batch_normalization_3/moving_mean', 'training_1/Adam/vhat_12_1', 'training_1/Adam/v_17_1', 'training_1/Adam/v_9_1', 'training/Adam/vhat_10_1', 'training_1/Adam/m_12_1', 'training_1/Adam/m_16_1', 'training_1/Adam/v_11_1', 'training/Adam/v_18_1', 'batch_normalization_1/beta', 'training/Adam/m_1_1', 'batch_normalization_3/beta', 'batch_normalization_4_1/moving_mean', 'training_1/Adam/m_14_1', 'training/Adam/v_17_1', 'Adam_1/beta_1', 'Adam/beta_2', 'batch_normalization_4/gamma', 'training/Adam/vhat_6_1', 'conv2d_3_1/bias', 'training/Adam/vhat_20_1', 'batch_normalization_2_1/beta', 'training/Adam/v_12_1', 'training/Adam/v_6_1', 'training/Adam/v_4_1', 'training_1/Adam/vhat_8_1', 'Adam_1/learning_rate', 'training_1/Adam/m_4_1', 'training_1/Adam/m_6_1', 'training_1/Adam/m_2_1', 'Adam/beta_1', 'conv2d_2_1/kernel', 'training/Adam/m_23_1', 'Adam_1/iterations', 'training_1/Adam/m_7_1', 'conv2d_1/bias', 'count_1', 'training/Adam/v_0_1', 'training/Adam/vhat_16_1', 'training_1/Adam/v_8_1', 'training/Adam/v_22_1', 'training_1/Adam/vhat_6_1', 'training_1/Adam/v_18_1', 'training/Adam/v_14_1', 'batch_normalization_3_1/beta', 'batch_normalization_1/moving_variance', 'training_1/Adam/m_10_1', 'training_1/Adam/vhat_19_1', 'training/Adam/v_19_1', 'training/Adam/vhat_9_1', 'training/Adam/m_16_1', 'training/Adam/m_21_1', 'batch_normalization_3/moving_variance', 'conv2d_3_1/kernel', 'training_1/Adam/m_22_1', 'training_1/Adam/vhat_4_1', 'training/Adam/v_10_1', 'conv2d_5_1/bias', 'training_1/Adam/m_15_1', 'training_1/Adam/m_19_1', 'batch_normalization_4_1/moving_variance', 'training_1/Adam/m_0_1', 'batch_normalization_4_1/beta', 'Adam/decay', 'training_1/Adam/vhat_22_1', 'conv2d_5/bias', 'training_1/Adam/vhat_11_1', 'dense_2/kernel', 'training_1/Adam/v_1_1', 'training/Adam/m_4_1', 'training/Adam/m_17_1', 'conv2d_1_1/kernel', 'training_1/Adam/v_16_1', 'training_1/Adam/vhat_2_1', 'training/Adam/m_2_1', 'training_1/Adam/v_12_1', 'conv2d_2_1/bias', 'training/Adam/v_7_1', 'training/Adam/m_11_1', 'batch_normalization_2/moving_mean', 'training/Adam/vhat_19_1', 'batch_normalization_2_1/moving_variance', 'training_1/Adam/m_13_1', 'batch_normalization_1_1/beta', 'training_1/Adam/vhat_13_1', 'training/Adam/m_14_1', 'conv2d_4_1/bias', 'training_1/Adam/m_21_1', 'dense_1/kernel', 'batch_normalization_3_1/gamma', 'dense_1/bias', 'training/Adam/vhat_11_1', 'training_1/Adam/vhat_1_1', 'total', 'training_1/Adam/vhat_17_1', 'conv2d_1_1/bias', 'training_1/Adam/m_18_1', 'dense_2_1/kernel', 'training_1/Adam/m_5_1', 'training_1/Adam/v_19_1', 'Adam_1/decay', 'training_1/Adam/v_22_1', 'training_1/Adam/v_3_1', 'training_1/Adam/vhat_14_1', 'batch_normalization_2/gamma', 'training/Adam/m_15_1', 'dense_1_1/kernel', 'batch_normalization_1_1/moving_variance', 'conv2d_5_1/kernel', 'training/Adam/vhat_8_1', 'batch_normalization_1_1/gamma', 'training/Adam/vhat_18_1', 'training/Adam/v_5_1', 'training/Adam/v_11_1', 'training/Adam/vhat_2_1', 'training_1/Adam/v_21_1', 'training_1/Adam/v_23_1', 'training_1/Adam/vhat_15_1', 'training_1/Adam/m_9_1', 'training/Adam/m_19_1', 'conv2d_1/kernel', 'training/Adam/v_13_1', 'training/Adam/vhat_7_1', 'training_1/Adam/v_14_1', 'training/Adam/m_5_1', 'conv2d_6/kernel', 'training/Adam/m_3_1', 'training/Adam/m_12_1', 'batch_normalization_1/gamma', 'training_1/Adam/v_15_1', 'batch_normalization_4/moving_variance', 'training_1/Adam/vhat_10_1', 'training/Adam/v_1_1']\n",
            "WARNING:tensorflow:From <ipython-input-12-a7fa7f592932>:21: convert_variables_to_constants (from tensorflow.python.framework.graph_util_impl) is deprecated and will be removed in a future version.\n",
            "Instructions for updating:\n",
            "Use `tf.compat.v1.graph_util.convert_variables_to_constants`\n",
            "WARNING:tensorflow:From /tensorflow-1.15.2/python3.6/tensorflow_core/python/framework/graph_util_impl.py:277: extract_sub_graph (from tensorflow.python.framework.graph_util_impl) is deprecated and will be removed in a future version.\n",
            "Instructions for updating:\n",
            "Use `tf.compat.v1.graph_util.extract_sub_graph`\n",
            "INFO:tensorflow:Froze 222 variables.\n",
            "INFO:tensorflow:Converted 222 variables to const ops.\n"
          ],
          "name": "stdout"
        },
        {
          "output_type": "execute_result",
          "data": {
            "text/plain": [
              "'model-nn/faces_emotions_model.pb'"
            ]
          },
          "metadata": {
            "tags": []
          },
          "execution_count": 12
        }
      ]
    }
  ]
}